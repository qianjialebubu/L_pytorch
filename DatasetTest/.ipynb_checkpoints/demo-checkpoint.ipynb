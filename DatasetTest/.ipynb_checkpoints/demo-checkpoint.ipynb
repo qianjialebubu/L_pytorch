{
 "cells": [
  {
   "cell_type": "raw",
   "id": "e671e394",
   "metadata": {
    "pycharm": {
     "name": "#%% raw\n"
    }
   },
   "source": []
  },
  {
   "cell_type": "code",
   "execution_count": 1,
   "outputs": [
    {
     "data": {
      "text/plain": "3"
     },
     "metadata": {},
     "output_type": "execute_result",
     "execution_count": 1
    }
   ],
   "source": [
    "a =1\n",
    "b =2\n",
    "c =a+b\n",
    "c"
   ],
   "metadata": {
    "collapsed": false,
    "pycharm": {
     "name": "#%%\n",
     "is_executing": false
    }
   }
  },
  {
   "cell_type": "markdown",
   "source": [
    "这是一个测试案例"
   ],
   "metadata": {
    "collapsed": false
   }
  },
  {
   "cell_type": "code",
   "execution_count": 4,
   "outputs": [
    {
     "name": "stdout",
     "text": [
      "245\n"
     ],
     "output_type": "stream"
    }
   ],
   "source": [
    "import os\n",
    "from PIL import Image\n",
    "from torch.utils.data import Dataset\n",
    "\n",
    "\n",
    "class MyData(Dataset):\n",
    "    def __init__(self,root_dir,label_dir):\n",
    "        self.root_dir = root_dir\n",
    "        self.label_dir = label_dir\n",
    "        self.path = os.path.join(root_dir,label_dir)\n",
    "        self.image_path = os.listdir(self.path)\n",
    "\n",
    "    def __getitem__(self,idx):\n",
    "        img_name = self.image_path\n",
    "        img_item_path = os.path.join(self.root_dir,self.label_dir,img_name[idx])\n",
    "        img = Image.open(img_item_path)\n",
    "        label = self.label_dir\n",
    "        return img,label\n",
    "\n",
    "    def __len__(self):\n",
    "        return len(self.image_path)\n",
    "\n",
    "root_dir = \"D:/file/work_space/deep_leaning/L_pytorch/hymenoptera_data/train\"\n",
    "label_dir_ants = \"ants\"\n",
    "label_dir_bees = \"bees\"\n",
    "ants_MyData = MyData(root_dir, label_dir_ants)\n",
    "bees_MyData = MyData(root_dir, label_dir_bees)\n",
    "MyData = ants_MyData+bees_MyData\n",
    "print(MyData.__len__())\n",
    "\n",
    "img , label = ants_MyData.__getitem__(2)\n",
    "img.show()\n",
    "# print(ants_MyData.__getitem__(0))\n",
    "# img,label = ants_MyData[0]\n",
    "# img.show()"
   ],
   "metadata": {
    "collapsed": false,
    "pycharm": {
     "name": "#%%\n",
     "is_executing": false
    }
   }
  },
  {
   "cell_type": "code",
   "execution_count": 2,
   "id": "cfc3d3db",
   "metadata": {},
   "outputs": [
    {
     "data": {
      "text/plain": [
       "3"
      ]
     },
     "execution_count": 2,
     "metadata": {},
     "output_type": "execute_result"
    }
   ],
   "source": [
    "import os\n",
    "from PIL import Image\n",
    "from torch.utils.data import Dataset\n",
    "\n",
    "\n",
    "class MyData(Dataset):\n",
    "    def __init__(self,root_dir,label_dir):\n",
    "        self.root_dir = root_dir\n",
    "        self.label_dir = label_dir\n",
    "        self.path = os.path.join(root_dir,label_dir)\n",
    "        self.image_path = os.listdir(self.path)\n",
    "\n",
    "    def __getitem__(self,idx):\n",
    "        img_name = self.image_path\n",
    "        img_item_path = os.path.join(self.root_dir,self.label_dir,img_name[idx])\n",
    "        img = Image.open(img_item_path)\n",
    "        label = self.label_dir\n",
    "        return img,label\n",
    "\n",
    "    def __len__(self):\n",
    "        return len(self.image_path)\n",
    "\n",
    "root_dir = \"D:/file/work_space/deep_leaning/L_pytorch/hymenoptera_data/train\"\n",
    "label_dir_ants = \"ants\"\n",
    "label_dir_bees = \"bees\"\n",
    "ants_MyData = MyData(root_dir, label_dir_ants)\n",
    "bees_MyData = MyData(root_dir, label_dir_bees)\n",
    "MyData = ants_MyData+bees_MyData\n",
    "print(MyData.__len__())\n",
    "\n",
    "img , label = ants_MyData.__getitem__(2)\n",
    "img.show()\n",
    "# print(ants_MyData.__getitem__(0))\n",
    "# img,label = ants_MyData[0]\n",
    "# img.show()"
   ]
  },
  {
   "cell_type": "markdown",
   "id": "ecbf41c6",
   "metadata": {},
   "source": [
    "这是一个测试案例"
   ]
  },
  {
   "cell_type": "code",
   "execution_count": 4,
   "id": "fc307e8c",
   "metadata": {},
   "outputs": [
    {
     "name": "stdout",
     "output_type": "stream",
     "text": [
      "245\n"
     ]
    }
   ],
   "source": [
    "import os\n",
    "from PIL import Image\n",
    "from torch.utils.data import Dataset\n",
    "\n",
    "\n",
    "class MyData(Dataset):\n",
    "    def __init__(self,root_dir,label_dir):\n",
    "        self.root_dir = root_dir\n",
    "        self.label_dir = label_dir\n",
    "        self.path = os.path.join(root_dir,label_dir)\n",
    "        self.image_path = os.listdir(self.path)\n",
    "\n",
    "    def __getitem__(self,idx):\n",
    "        img_name = self.image_path\n",
    "        img_item_path = os.path.join(self.root_dir,self.label_dir,img_name[idx])\n",
    "        img = Image.open(img_item_path)\n",
    "        label = self.label_dir\n",
    "        return img,label\n",
    "\n",
    "    def __len__(self):\n",
    "        return len(self.image_path)\n",
    "\n",
    "root_dir = \"D:/file/work_space/deep_leaning/L_pytorch/hymenoptera_data/train\"\n",
    "label_dir_ants = \"ants\"\n",
    "label_dir_bees = \"bees\"\n",
    "ants_MyData = MyData(root_dir, label_dir_ants)\n",
    "bees_MyData = MyData(root_dir, label_dir_bees)\n",
    "MyData = ants_MyData+bees_MyData\n",
    "print(MyData.__len__())\n",
    "\n",
    "img , label = ants_MyData.__getitem__(2)\n",
    "img.show()\n",
    "# print(ants_MyData.__getitem__(0))\n",
    "# img,label = ants_MyData[0]\n",
    "# img.show()"
   ]
  }
 ],
 "metadata": {
  "kernelspec": {
   "display_name": "Python 3 (ipykernel)",
   "language": "python",
   "name": "python3"
  },
  "language_info": {
   "codemirror_mode": {
    "name": "ipython",
    "version": 3
   },
   "file_extension": ".py",
   "mimetype": "text/x-python",
   "name": "python",
   "nbconvert_exporter": "python",
   "pygments_lexer": "ipython3",
   "version": "3.7.12"
  },
  "pycharm": {
   "stem_cell": {
    "cell_type": "raw",
    "source": [],
    "metadata": {
     "collapsed": false
    }
   }
  }
 },
 "nbformat": 4,
 "nbformat_minor": 5
}